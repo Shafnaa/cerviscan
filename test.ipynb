{
 "cells": [
  {
   "cell_type": "code",
   "execution_count": 1,
   "metadata": {},
   "outputs": [],
   "source": [
    "import cv2\n",
    "from model.main import main as model"
   ]
  },
  {
   "cell_type": "code",
   "execution_count": 3,
   "metadata": {},
   "outputs": [
    {
     "name": "stdout",
     "output_type": "stream",
     "text": [
      "<class 'pandas.core.frame.DataFrame'>\n",
      "RangeIndex: 1 entries, 0 to 0\n",
      "Data columns (total 62 columns):\n",
      " #   Column          Non-Null Count  Dtype  \n",
      "---  ------          --------------  -----  \n",
      " 0   mean_y          1 non-null      Float64\n",
      " 1   mean_u          1 non-null      Float64\n",
      " 2   mean_v          1 non-null      Float64\n",
      " 3   std_y           1 non-null      Float64\n",
      " 4   std_u           1 non-null      Float64\n",
      " 5   std_v           1 non-null      Float64\n",
      " 6   skew_y          1 non-null      Float64\n",
      " 7   skew_u          1 non-null      Float64\n",
      " 8   skew_v          1 non-null      Float64\n",
      " 9   mean            1 non-null      Float64\n",
      " 10  median          1 non-null      Int64  \n",
      " 11  std             1 non-null      Float64\n",
      " 12  kurtosis        1 non-null      Float64\n",
      " 13  skewness        1 non-null      Float64\n",
      " 14  SRE_deg0        1 non-null      Float64\n",
      " 15  LRE_deg0        1 non-null      Float64\n",
      " 16  GLN_deg0        1 non-null      Float64\n",
      " 17  RLN_deg0        1 non-null      Float64\n",
      " 18  RP_deg0         1 non-null      Float64\n",
      " 19  LGLRE_deg0      1 non-null      Float64\n",
      " 20  HGL_deg0        1 non-null      Float64\n",
      " 21  SRLGLE_deg0     1 non-null      Float64\n",
      " 22  SRHGLE_deg0     1 non-null      Float64\n",
      " 23  LRLGLE_deg0     1 non-null      Int64  \n",
      " 24  LRHGLE_deg0     1 non-null      Float64\n",
      " 25  SRE_deg45       1 non-null      Float64\n",
      " 26  LRE_deg45       1 non-null      Float64\n",
      " 27  GLN_deg45       1 non-null      Float64\n",
      " 28  RLN_deg45       1 non-null      Float64\n",
      " 29  RP_deg45        1 non-null      Float64\n",
      " 30  LGLRE_deg45     1 non-null      Float64\n",
      " 31  HGL_deg45       1 non-null      Float64\n",
      " 32  SRLGLE_deg45    1 non-null      Float64\n",
      " 33  SRHGLE_deg45    1 non-null      Float64\n",
      " 34  LRLGLE_deg45    1 non-null      Int64  \n",
      " 35  LRHGLE_deg45    1 non-null      Float64\n",
      " 36  SRE_deg90       1 non-null      Float64\n",
      " 37  LRE_deg90       1 non-null      Float64\n",
      " 38  GLN_deg90       1 non-null      Float64\n",
      " 39  RLN_deg90       1 non-null      Float64\n",
      " 40  RP_deg90        1 non-null      Float64\n",
      " 41  LGLRE_deg90     1 non-null      Float64\n",
      " 42  HGL_deg90       1 non-null      Float64\n",
      " 43  SRLGLE_deg90    1 non-null      Float64\n",
      " 44  SRHGLE_deg90    1 non-null      Float64\n",
      " 45  LRLGLE_deg90    1 non-null      Int64  \n",
      " 46  LRHGLE_deg90    1 non-null      Float64\n",
      " 47  SRE_deg135      1 non-null      Float64\n",
      " 48  LRE_deg135      1 non-null      Float64\n",
      " 49  GLN_deg135      1 non-null      Float64\n",
      " 50  RLN_deg135      1 non-null      Float64\n",
      " 51  RP_deg135       1 non-null      Float64\n",
      " 52  LGLRE_deg135    1 non-null      Float64\n",
      " 53  HGL_deg135      1 non-null      Float64\n",
      " 54  SRLGLE_deg135   1 non-null      Float64\n",
      " 55  SRHGLE_deg135   1 non-null      Float64\n",
      " 56  LRLGLE_deg135   1 non-null      Int64  \n",
      " 57  LRHGLE_deg135   1 non-null      Float64\n",
      " 58  Coarseness      1 non-null      Float64\n",
      " 59  Contrast        1 non-null      Float64\n",
      " 60  Directionality  1 non-null      Float64\n",
      " 61  Roughness       1 non-null      Float64\n",
      "dtypes: Float64(57), Int64(5)\n",
      "memory usage: 690.0 bytes\n",
      "None\n",
      "      mean_y    mean_u     mean_v      std_y     std_u      std_v    skew_y  \\\n",
      "0  48.416676  1.824068  11.177002  94.747346  4.740617  21.900707  1.457608   \n",
      "\n",
      "     skew_u    skew_v        mean  ...  LGLRE_deg135    HGL_deg135  \\\n",
      "0  2.803073  1.466428  227.400608  ...      0.000016  46830.526379   \n",
      "\n",
      "   SRLGLE_deg135  SRHGLE_deg135  LRLGLE_deg135  LRHGLE_deg135  Coarseness  \\\n",
      "0       0.000015   44511.593062              1   58324.620709    5.388327   \n",
      "\n",
      "    Contrast  Directionality  Roughness  \n",
      "0  71.109057      473.438306  76.497384  \n",
      "\n",
      "[1 rows x 62 columns]\n"
     ]
    }
   ],
   "source": [
    "image = cv2.imread('./static/image_uploads/raw.jpg')\n",
    "\n",
    "features = model(image)"
   ]
  }
 ],
 "metadata": {
  "kernelspec": {
   "display_name": "venv",
   "language": "python",
   "name": "python3"
  },
  "language_info": {
   "codemirror_mode": {
    "name": "ipython",
    "version": 3
   },
   "file_extension": ".py",
   "mimetype": "text/x-python",
   "name": "python",
   "nbconvert_exporter": "python",
   "pygments_lexer": "ipython3",
   "version": "3.12.3"
  }
 },
 "nbformat": 4,
 "nbformat_minor": 2
}
